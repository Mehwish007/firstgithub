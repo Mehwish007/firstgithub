{
 "cells": [
  {
   "cell_type": "markdown",
   "id": "23801794",
   "metadata": {},
   "source": [
    "### 01-import libraries and loading the data"
   ]
  },
  {
   "cell_type": "code",
   "execution_count": 4,
   "id": "c8e50eea",
   "metadata": {},
   "outputs": [
    {
     "data": {
      "text/html": [
       "<div>\n",
       "<style scoped>\n",
       "    .dataframe tbody tr th:only-of-type {\n",
       "        vertical-align: middle;\n",
       "    }\n",
       "\n",
       "    .dataframe tbody tr th {\n",
       "        vertical-align: top;\n",
       "    }\n",
       "\n",
       "    .dataframe thead th {\n",
       "        text-align: right;\n",
       "    }\n",
       "</style>\n",
       "<table border=\"1\" class=\"dataframe\">\n",
       "  <thead>\n",
       "    <tr style=\"text-align: right;\">\n",
       "      <th></th>\n",
       "      <th>Gender</th>\n",
       "      <th>Location</th>\n",
       "      <th>Age</th>\n",
       "      <th>Qualification_completed</th>\n",
       "      <th>field_of_study</th>\n",
       "      <th>Purpose_for_chilla</th>\n",
       "      <th>What are you?</th>\n",
       "      <th>Blood group</th>\n",
       "      <th>Which mobile sim do you use</th>\n",
       "      <th>Prepaid or Postpaid</th>\n",
       "      <th>...</th>\n",
       "      <th>Your favorite programming language?</th>\n",
       "      <th>Marital Status?</th>\n",
       "      <th>Are you Vaccinated?</th>\n",
       "      <th>Where do you live?</th>\n",
       "      <th>Research/Working experience (Float/Int) years</th>\n",
       "      <th>Age (years)-Float/Int</th>\n",
       "      <th>Your Weight in kg? (float)</th>\n",
       "      <th>Height in cm? Freelancer- (Float)</th>\n",
       "      <th>How many hours you code a day? (int) e.g: 5,4,3</th>\n",
       "      <th>Light kitni der band hti hy? int</th>\n",
       "    </tr>\n",
       "  </thead>\n",
       "  <tbody>\n",
       "    <tr>\n",
       "      <th>0</th>\n",
       "      <td>Male</td>\n",
       "      <td>Pakistan</td>\n",
       "      <td>36-40</td>\n",
       "      <td>Masters</td>\n",
       "      <td>Natural Sciences</td>\n",
       "      <td>to boost my skill set</td>\n",
       "      <td>Unemplyed</td>\n",
       "      <td>B+</td>\n",
       "      <td>U-fone</td>\n",
       "      <td>Prepaid</td>\n",
       "      <td>...</td>\n",
       "      <td>Python</td>\n",
       "      <td>Yes</td>\n",
       "      <td>Yes</td>\n",
       "      <td>Urbun</td>\n",
       "      <td>5</td>\n",
       "      <td>38.00</td>\n",
       "      <td>77.0</td>\n",
       "      <td>179.000</td>\n",
       "      <td>3.0</td>\n",
       "      <td>2.0</td>\n",
       "    </tr>\n",
       "    <tr>\n",
       "      <th>1</th>\n",
       "      <td>Male</td>\n",
       "      <td>Pakistan</td>\n",
       "      <td>26-30</td>\n",
       "      <td>Bachelors</td>\n",
       "      <td>CS/IT</td>\n",
       "      <td>to boost my skill set</td>\n",
       "      <td>Student</td>\n",
       "      <td>B+</td>\n",
       "      <td>U-fone</td>\n",
       "      <td>Prepaid</td>\n",
       "      <td>...</td>\n",
       "      <td>Python</td>\n",
       "      <td>No</td>\n",
       "      <td>Yes</td>\n",
       "      <td>Urbun</td>\n",
       "      <td>1</td>\n",
       "      <td>25.00</td>\n",
       "      <td>53.6</td>\n",
       "      <td>178.000</td>\n",
       "      <td>2.0</td>\n",
       "      <td>6.0</td>\n",
       "    </tr>\n",
       "    <tr>\n",
       "      <th>2</th>\n",
       "      <td>Male</td>\n",
       "      <td>Pakistan</td>\n",
       "      <td>31-35</td>\n",
       "      <td>Masters</td>\n",
       "      <td>Enginnering</td>\n",
       "      <td>Switch my field of study</td>\n",
       "      <td>Employed</td>\n",
       "      <td>B+</td>\n",
       "      <td>Zong</td>\n",
       "      <td>Prepaid</td>\n",
       "      <td>...</td>\n",
       "      <td>Python</td>\n",
       "      <td>Yes</td>\n",
       "      <td>Yes</td>\n",
       "      <td>Urbun</td>\n",
       "      <td>5.5</td>\n",
       "      <td>31.34</td>\n",
       "      <td>93.0</td>\n",
       "      <td>173.000</td>\n",
       "      <td>2.0</td>\n",
       "      <td>0.0</td>\n",
       "    </tr>\n",
       "    <tr>\n",
       "      <th>3</th>\n",
       "      <td>Female</td>\n",
       "      <td>Pakistan</td>\n",
       "      <td>31-35</td>\n",
       "      <td>Masters</td>\n",
       "      <td>CS/IT</td>\n",
       "      <td>to boost my skill set</td>\n",
       "      <td>Employed</td>\n",
       "      <td>O+</td>\n",
       "      <td>U-fone</td>\n",
       "      <td>Postpaid</td>\n",
       "      <td>...</td>\n",
       "      <td>Python</td>\n",
       "      <td>Yes</td>\n",
       "      <td>Yes</td>\n",
       "      <td>Urbun</td>\n",
       "      <td>5</td>\n",
       "      <td>33.00</td>\n",
       "      <td>60.0</td>\n",
       "      <td>157.000</td>\n",
       "      <td>3.0</td>\n",
       "      <td>24.0</td>\n",
       "    </tr>\n",
       "    <tr>\n",
       "      <th>4</th>\n",
       "      <td>Female</td>\n",
       "      <td>Pakistan</td>\n",
       "      <td>26-30</td>\n",
       "      <td>Masters</td>\n",
       "      <td>Enginnering</td>\n",
       "      <td>to boost my skill set</td>\n",
       "      <td>Student</td>\n",
       "      <td>A-</td>\n",
       "      <td>Mobilink</td>\n",
       "      <td>Prepaid</td>\n",
       "      <td>...</td>\n",
       "      <td>Javascript</td>\n",
       "      <td>No</td>\n",
       "      <td>Yes</td>\n",
       "      <td>Rural</td>\n",
       "      <td>3.5</td>\n",
       "      <td>27.00</td>\n",
       "      <td>59.9</td>\n",
       "      <td>164.544</td>\n",
       "      <td>6.0</td>\n",
       "      <td>12.0</td>\n",
       "    </tr>\n",
       "    <tr>\n",
       "      <th>...</th>\n",
       "      <td>...</td>\n",
       "      <td>...</td>\n",
       "      <td>...</td>\n",
       "      <td>...</td>\n",
       "      <td>...</td>\n",
       "      <td>...</td>\n",
       "      <td>...</td>\n",
       "      <td>...</td>\n",
       "      <td>...</td>\n",
       "      <td>...</td>\n",
       "      <td>...</td>\n",
       "      <td>...</td>\n",
       "      <td>...</td>\n",
       "      <td>...</td>\n",
       "      <td>...</td>\n",
       "      <td>...</td>\n",
       "      <td>...</td>\n",
       "      <td>...</td>\n",
       "      <td>...</td>\n",
       "      <td>...</td>\n",
       "      <td>...</td>\n",
       "    </tr>\n",
       "    <tr>\n",
       "      <th>370</th>\n",
       "      <td>Male</td>\n",
       "      <td>Pakistan</td>\n",
       "      <td>26-30</td>\n",
       "      <td>Masters</td>\n",
       "      <td>Enginnering</td>\n",
       "      <td>to boost my skill set</td>\n",
       "      <td>Employed</td>\n",
       "      <td>O+</td>\n",
       "      <td>Telenor</td>\n",
       "      <td>Prepaid</td>\n",
       "      <td>...</td>\n",
       "      <td>R</td>\n",
       "      <td>Yes</td>\n",
       "      <td>Yes</td>\n",
       "      <td>Rural</td>\n",
       "      <td>7</td>\n",
       "      <td>28.00</td>\n",
       "      <td>70.5</td>\n",
       "      <td>178.500</td>\n",
       "      <td>4.0</td>\n",
       "      <td>3.0</td>\n",
       "    </tr>\n",
       "    <tr>\n",
       "      <th>371</th>\n",
       "      <td>Male</td>\n",
       "      <td>Pakistan</td>\n",
       "      <td>31-35</td>\n",
       "      <td>Bachelors</td>\n",
       "      <td>Enginnering</td>\n",
       "      <td>to boost my skill set</td>\n",
       "      <td>Employed</td>\n",
       "      <td>A+</td>\n",
       "      <td>Zong</td>\n",
       "      <td>Postpaid</td>\n",
       "      <td>...</td>\n",
       "      <td>Python</td>\n",
       "      <td>Yes</td>\n",
       "      <td>Yes</td>\n",
       "      <td>Urbun</td>\n",
       "      <td>5</td>\n",
       "      <td>33.00</td>\n",
       "      <td>83.4</td>\n",
       "      <td>172.700</td>\n",
       "      <td>1.0</td>\n",
       "      <td>1.0</td>\n",
       "    </tr>\n",
       "    <tr>\n",
       "      <th>372</th>\n",
       "      <td>Male</td>\n",
       "      <td>Pakistan</td>\n",
       "      <td>21-25</td>\n",
       "      <td>Bachelors</td>\n",
       "      <td>CS/IT</td>\n",
       "      <td>to boost my skill set</td>\n",
       "      <td>Employed</td>\n",
       "      <td>O+</td>\n",
       "      <td>Mobilink</td>\n",
       "      <td>Prepaid</td>\n",
       "      <td>...</td>\n",
       "      <td>Python</td>\n",
       "      <td>No</td>\n",
       "      <td>Yes</td>\n",
       "      <td>Urbun</td>\n",
       "      <td>0</td>\n",
       "      <td>22.80</td>\n",
       "      <td>60.0</td>\n",
       "      <td>1.680</td>\n",
       "      <td>0.0</td>\n",
       "      <td>0.0</td>\n",
       "    </tr>\n",
       "    <tr>\n",
       "      <th>373</th>\n",
       "      <td>Male</td>\n",
       "      <td>Pakistan</td>\n",
       "      <td>26-30</td>\n",
       "      <td>Masters</td>\n",
       "      <td>Enginnering</td>\n",
       "      <td>to boost my skill set</td>\n",
       "      <td>Employed</td>\n",
       "      <td>B-</td>\n",
       "      <td>Mobilink</td>\n",
       "      <td>Prepaid</td>\n",
       "      <td>...</td>\n",
       "      <td>Python</td>\n",
       "      <td>No</td>\n",
       "      <td>No</td>\n",
       "      <td>Urbun</td>\n",
       "      <td>2</td>\n",
       "      <td>29.00</td>\n",
       "      <td>86.0</td>\n",
       "      <td>180.000</td>\n",
       "      <td>2.0</td>\n",
       "      <td>1.0</td>\n",
       "    </tr>\n",
       "    <tr>\n",
       "      <th>374</th>\n",
       "      <td>Female</td>\n",
       "      <td>Pakistan</td>\n",
       "      <td>31-35</td>\n",
       "      <td>Masters</td>\n",
       "      <td>Mathematics</td>\n",
       "      <td>Switch my field of study</td>\n",
       "      <td>Unemplyed</td>\n",
       "      <td>B+</td>\n",
       "      <td>Telenor</td>\n",
       "      <td>Prepaid</td>\n",
       "      <td>...</td>\n",
       "      <td>Python</td>\n",
       "      <td>Yes</td>\n",
       "      <td>Yes</td>\n",
       "      <td>Urbun</td>\n",
       "      <td>3</td>\n",
       "      <td>31.00</td>\n",
       "      <td>54.5</td>\n",
       "      <td>161.544</td>\n",
       "      <td>3.0</td>\n",
       "      <td>0.0</td>\n",
       "    </tr>\n",
       "  </tbody>\n",
       "</table>\n",
       "<p>375 rows × 23 columns</p>\n",
       "</div>"
      ],
      "text/plain": [
       "     Gender  Location    Age Qualification_completed    field_of_study  \\\n",
       "0      Male  Pakistan  36-40                 Masters  Natural Sciences   \n",
       "1      Male  Pakistan  26-30               Bachelors             CS/IT   \n",
       "2      Male  Pakistan  31-35                 Masters       Enginnering   \n",
       "3    Female  Pakistan  31-35                 Masters             CS/IT   \n",
       "4    Female  Pakistan  26-30                 Masters       Enginnering   \n",
       "..      ...       ...    ...                     ...               ...   \n",
       "370    Male  Pakistan  26-30                 Masters       Enginnering   \n",
       "371    Male  Pakistan  31-35               Bachelors       Enginnering   \n",
       "372    Male  Pakistan  21-25               Bachelors             CS/IT   \n",
       "373    Male  Pakistan  26-30                 Masters       Enginnering   \n",
       "374  Female  Pakistan  31-35                 Masters       Mathematics   \n",
       "\n",
       "           Purpose_for_chilla What are you? Blood group   \\\n",
       "0       to boost my skill set     Unemplyed           B+   \n",
       "1       to boost my skill set       Student           B+   \n",
       "2    Switch my field of study      Employed           B+   \n",
       "3       to boost my skill set      Employed           O+   \n",
       "4       to boost my skill set       Student           A-   \n",
       "..                        ...           ...          ...   \n",
       "370     to boost my skill set      Employed           O+   \n",
       "371     to boost my skill set      Employed           A+   \n",
       "372     to boost my skill set      Employed           O+   \n",
       "373     to boost my skill set      Employed           B-   \n",
       "374  Switch my field of study     Unemplyed           B+   \n",
       "\n",
       "    Which mobile sim do you use Prepaid or Postpaid  ...  \\\n",
       "0                        U-fone             Prepaid  ...   \n",
       "1                        U-fone             Prepaid  ...   \n",
       "2                          Zong             Prepaid  ...   \n",
       "3                        U-fone            Postpaid  ...   \n",
       "4                      Mobilink             Prepaid  ...   \n",
       "..                          ...                 ...  ...   \n",
       "370                     Telenor             Prepaid  ...   \n",
       "371                        Zong            Postpaid  ...   \n",
       "372                    Mobilink             Prepaid  ...   \n",
       "373                    Mobilink             Prepaid  ...   \n",
       "374                     Telenor             Prepaid  ...   \n",
       "\n",
       "    Your favorite programming language? Marital Status? Are you Vaccinated?  \\\n",
       "0                                Python             Yes                 Yes   \n",
       "1                                Python              No                 Yes   \n",
       "2                                Python             Yes                 Yes   \n",
       "3                                Python             Yes                 Yes   \n",
       "4                            Javascript              No                 Yes   \n",
       "..                                  ...             ...                 ...   \n",
       "370                                   R             Yes                 Yes   \n",
       "371                              Python             Yes                 Yes   \n",
       "372                              Python              No                 Yes   \n",
       "373                              Python              No                  No   \n",
       "374                              Python             Yes                 Yes   \n",
       "\n",
       "    Where do you live? Research/Working experience (Float/Int) years  \\\n",
       "0                Urbun                                             5   \n",
       "1                Urbun                                             1   \n",
       "2                Urbun                                           5.5   \n",
       "3                Urbun                                             5   \n",
       "4                Rural                                           3.5   \n",
       "..                 ...                                           ...   \n",
       "370              Rural                                             7   \n",
       "371              Urbun                                             5   \n",
       "372              Urbun                                             0   \n",
       "373              Urbun                                             2   \n",
       "374              Urbun                                             3   \n",
       "\n",
       "    Age (years)-Float/Int Your Weight in kg? (float)  \\\n",
       "0                   38.00                       77.0   \n",
       "1                   25.00                       53.6   \n",
       "2                   31.34                       93.0   \n",
       "3                   33.00                       60.0   \n",
       "4                   27.00                       59.9   \n",
       "..                    ...                        ...   \n",
       "370                 28.00                       70.5   \n",
       "371                 33.00                       83.4   \n",
       "372                 22.80                       60.0   \n",
       "373                 29.00                       86.0   \n",
       "374                 31.00                       54.5   \n",
       "\n",
       "    Height in cm? Freelancer- (Float)  \\\n",
       "0                             179.000   \n",
       "1                             178.000   \n",
       "2                             173.000   \n",
       "3                             157.000   \n",
       "4                             164.544   \n",
       "..                                ...   \n",
       "370                           178.500   \n",
       "371                           172.700   \n",
       "372                             1.680   \n",
       "373                           180.000   \n",
       "374                           161.544   \n",
       "\n",
       "     How many hours you code a day? (int) e.g: 5,4,3  \\\n",
       "0                                                3.0   \n",
       "1                                                2.0   \n",
       "2                                                2.0   \n",
       "3                                                3.0   \n",
       "4                                                6.0   \n",
       "..                                               ...   \n",
       "370                                              4.0   \n",
       "371                                              1.0   \n",
       "372                                              0.0   \n",
       "373                                              2.0   \n",
       "374                                              3.0   \n",
       "\n",
       "     Light kitni der band hti hy? int  \n",
       "0                                 2.0  \n",
       "1                                 6.0  \n",
       "2                                 0.0  \n",
       "3                                24.0  \n",
       "4                                12.0  \n",
       "..                                ...  \n",
       "370                               3.0  \n",
       "371                               1.0  \n",
       "372                               0.0  \n",
       "373                               1.0  \n",
       "374                               0.0  \n",
       "\n",
       "[375 rows x 23 columns]"
      ]
     },
     "execution_count": 4,
     "metadata": {},
     "output_type": "execute_result"
    }
   ],
   "source": [
    "import seaborn as sns\n",
    "import pandas as pd\n",
    "import matplotlib.pyplot as plt\n",
    "# load dataset\n",
    "chilla_data=pd.read_csv(\"Chilla_data2_for_plots.csv\")\n",
    "chilla_data"
   ]
  },
  {
   "cell_type": "markdown",
   "id": "6ebc5b2d",
   "metadata": {},
   "source": [
    "### 02- plotting bar graph"
   ]
  },
  {
   "cell_type": "code",
   "execution_count": 14,
   "id": "f2a69854",
   "metadata": {},
   "outputs": [
    {
     "data": {
      "image/png": "[encoded data removed]",
      "text/plain": [
       "<Figure size 432x288 with 1 Axes>"
      ]
     },
     "metadata": {
      "needs_background": "light"
     },
     "output_type": "display_data"
    }
   ],
   "source": [
    "import seaborn as sns\n",
    "import pandas as pd\n",
    "import matplotlib.pyplot as plt\n",
    "# load dataset\n",
    "chilla_data=pd.read_csv(\"Chilla_data2_for_plots.csv\")\n",
    "sns.barplot(x=\"Age\", y=\"How many hours you code a day? (int) e.g: 5,4,3\", hue=\"Gender\", data=chilla_data)\n",
    "plt.show()"
   ]
  },
  {
   "cell_type": "markdown",
   "id": "392735c7",
   "metadata": {},
   "source": [
    "### 03- with other data"
   ]
  },
  {
   "cell_type": "code",
   "execution_count": 24,
   "id": "9a3596d9",
   "metadata": {},
   "outputs": [
    {
     "data": {
      "image/png": "[encoded data removed]",
      "text/plain": [
       "<Figure size 432x288 with 1 Axes>"
      ]
     },
     "metadata": {
      "needs_background": "light"
     },
     "output_type": "display_data"
    }
   ],
   "source": [
    "import seaborn as sns\n",
    "import pandas as pd\n",
    "import matplotlib.pyplot as plt\n",
    "# load dataset\n",
    "chilla_data=pd.read_csv(\"Chilla_data2_for_plots.csv\")\n",
    "sns.barplot(x=\"Are you Vaccinated?\",y=\"Light kitni der band hti hy? int\", hue=\"What are you?\", data=chilla_data )\n",
    "plt.show()"
   ]
  },
  {
   "cell_type": "markdown",
   "id": "a8db40e3",
   "metadata": {},
   "source": [
    "### 04- changing order"
   ]
  },
  {
   "cell_type": "code",
   "execution_count": 26,
   "id": "fa4b8325",
   "metadata": {},
   "outputs": [
    {
     "data": {
      "image/png": "[encoded data removed]",
      "text/plain": [
       "<Figure size 432x288 with 1 Axes>"
      ]
     },
     "metadata": {
      "needs_background": "light"
     },
     "output_type": "display_data"
    }
   ],
   "source": [
    "import seaborn as sns\n",
    "import pandas as pd\n",
    "import matplotlib.pyplot as plt\n",
    "# load dataset\n",
    "chilla_data=pd.read_csv(\"Chilla_data2_for_plots.csv\")\n",
    "sns.barplot(x=\"What are you?\",y=\"Light kitni der band hti hy? int\", hue=\"Are you Vaccinated?\", data=chilla_data,\n",
    "            order=[\"Student\", \"Employed\", \"Unemployed\"] )\n",
    "plt.show()"
   ]
  },
  {
   "cell_type": "markdown",
   "id": "2b7d4b36",
   "metadata": {},
   "source": [
    "### 05- Removing error bars and adding color"
   ]
  },
  {
   "cell_type": "code",
   "execution_count": 31,
   "id": "d4db4ee0",
   "metadata": {
    "scrolled": true
   },
   "outputs": [
    {
     "data": {
      "image/png": "[encoded data removed]",
      "text/plain": [
       "<Figure size 432x288 with 1 Axes>"
      ]
     },
     "metadata": {
      "needs_background": "light"
     },
     "output_type": "display_data"
    }
   ],
   "source": [
    "import seaborn as sns\n",
    "import pandas as pd\n",
    "import matplotlib.pyplot as plt\n",
    "# load dataset\n",
    "chilla_data=pd.read_csv(\"Chilla_data2_for_plots.csv\")\n",
    "sns.barplot(x=\"What are you?\",y=\"Light kitni der band hti hy? int\", hue=\"Are you Vaccinated?\", data=chilla_data,\n",
    "            order=[\"Student\", \"Employed\", \"Unemployed\"], ci=None, color=\"blue\" )\n",
    "plt.show()"
   ]
  },
  {
   "cell_type": "markdown",
   "id": "0bd7996a",
   "metadata": {},
   "source": [
    "### 06- using different palette"
   ]
  },
  {
   "cell_type": "code",
   "execution_count": 34,
   "id": "c2ce2979",
   "metadata": {},
   "outputs": [
    {
     "data": {
      "image/png": "[encoded data removed]",
      "text/plain": [
       "<Figure size 432x288 with 1 Axes>"
      ]
     },
     "metadata": {
      "needs_background": "light"
     },
     "output_type": "display_data"
    }
   ],
   "source": [
    "import seaborn as sns\n",
    "import pandas as pd\n",
    "import matplotlib.pyplot as plt\n",
    "# load dataset\n",
    "chilla_data=pd.read_csv(\"Chilla_data2_for_plots.csv\")\n",
    "sns.barplot(x=\"What are you?\",y=\"Light kitni der band hti hy? int\", hue=\"Are you Vaccinated?\", data=chilla_data,\n",
    "            order=[\"Student\", \"Employed\", \"Unemployed\"], ci=None, palette=\"pastel\" )\n",
    "plt.show()"
   ]
  },
  {
   "cell_type": "markdown",
   "id": "032a45a8",
   "metadata": {},
   "source": [
    "### 07- Adding an estimator"
   ]
  },
  {
   "cell_type": "code",
   "execution_count": 36,
   "id": "7e28ec71",
   "metadata": {},
   "outputs": [
    {
     "data": {
      "image/png": "[encoded data removed]",
      "text/plain": [
       "<Figure size 432x288 with 1 Axes>"
      ]
     },
     "metadata": {
      "needs_background": "light"
     },
     "output_type": "display_data"
    }
   ],
   "source": [
    "import seaborn as sns\n",
    "import pandas as pd\n",
    "import matplotlib.pyplot as plt\n",
    "from numpy import median\n",
    "# load dataset\n",
    "chilla_data=pd.read_csv(\"Chilla_data2_for_plots.csv\")\n",
    "sns.barplot(x=\"What are you?\",y=\"Light kitni der band hti hy? int\", hue=\"Are you Vaccinated?\", data=chilla_data,\n",
    "            order=[\"Student\", \"Employed\", \"Unemployed\"], ci=None, palette=\"pastel\", estimator=median )\n",
    "plt.show()"
   ]
  },
  {
   "cell_type": "markdown",
   "id": "e0e7464c",
   "metadata": {},
   "source": [
    "### 08- Managing saturation\\intensity of color"
   ]
  },
  {
   "cell_type": "code",
   "execution_count": 37,
   "id": "026d540b",
   "metadata": {},
   "outputs": [
    {
     "data": {
      "image/png": "[encoded data removed]",
      "text/plain": [
       "<Figure size 432x288 with 1 Axes>"
      ]
     },
     "metadata": {
      "needs_background": "light"
     },
     "output_type": "display_data"
    }
   ],
   "source": [
    "import seaborn as sns\n",
    "import pandas as pd\n",
    "import matplotlib.pyplot as plt\n",
    "# load dataset\n",
    "chilla_data=pd.read_csv(\"Chilla_data2_for_plots.csv\")\n",
    "sns.barplot(x=\"What are you?\",y=\"Light kitni der band hti hy? int\", hue=\"Are you Vaccinated?\", data=chilla_data,\n",
    "            order=[\"Student\", \"Employed\", \"Unemployed\"], saturation=1 )\n",
    "plt.show()"
   ]
  },
  {
   "cell_type": "markdown",
   "id": "81b320f6",
   "metadata": {},
   "source": [
    "### 09- Making horizontal plot"
   ]
  },
  {
   "cell_type": "code",
   "execution_count": 38,
   "id": "49a7d7e2",
   "metadata": {},
   "outputs": [
    {
     "data": {
      "image/png": "[encoded data removed]",
      "text/plain": [
       "<Figure size 432x288 with 1 Axes>"
      ]
     },
     "metadata": {
      "needs_background": "light"
     },
     "output_type": "display_data"
    }
   ],
   "source": [
    "import seaborn as sns\n",
    "import pandas as pd\n",
    "import matplotlib.pyplot as plt\n",
    "# load dataset\n",
    "chilla_data=pd.read_csv(\"Chilla_data2_for_plots.csv\")\n",
    "sns.barplot(x=\"Light kitni der band hti hy? int\",y=\"What are you?\", hue=\"Are you Vaccinated?\", data=chilla_data,\n",
    "            order=[\"Student\", \"Employed\", \"Unemployed\"] )\n",
    "plt.show()"
   ]
  },
  {
   "cell_type": "markdown",
   "id": "e9a80506",
   "metadata": {},
   "source": [
    "### 10- Managing the color of edge"
   ]
  },
  {
   "cell_type": "code",
   "execution_count": 39,
   "id": "713d52ae",
   "metadata": {},
   "outputs": [
    {
     "data": {
      "image/png": "[encoded data removed]",
      "text/plain": [
       "<Figure size 432x288 with 1 Axes>"
      ]
     },
     "metadata": {
      "needs_background": "light"
     },
     "output_type": "display_data"
    }
   ],
   "source": [
    "import seaborn as sns\n",
    "import pandas as pd\n",
    "import matplotlib.pyplot as plt\n",
    "# load dataset\n",
    "chilla_data=pd.read_csv(\"Chilla_data2_for_plots.csv\")\n",
    "sns.barplot(x=\"What are you?\",y=\"Light kitni der band hti hy? int\", hue=\"Are you Vaccinated?\", data=chilla_data,\n",
    "            order=[\"Student\", \"Employed\", \"Unemployed\"], linewidth=3, facecolor=(1, 1, 1, 0),\n",
    "           errcolor=\".5\", edgecolor=\"0\" )\n",
    "plt.show()"
   ]
  }
 ],
 "metadata": {
  "kernelspec": {
   "display_name": "Python 3 (ipykernel)",
   "language": "python",
   "name": "python3"
  },
  "language_info": {
   "codemirror_mode": {
    "name": "ipython",
    "version": 3
   },
   "file_extension": ".py",
   "mimetype": "text/x-python",
   "name": "python",
   "nbconvert_exporter": "python",
   "pygments_lexer": "ipython3",
   "version": "3.9.7"
  }
 },
 "nbformat": 4,
 "nbformat_minor": 5
}
